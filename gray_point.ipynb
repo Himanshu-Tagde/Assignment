{
  "nbformat": 4,
  "nbformat_minor": 0,
  "metadata": {
    "colab": {
      "provenance": [],
      "authorship_tag": "ABX9TyP5j399PWuDdf6IQknC+0ki",
      "include_colab_link": true
    },
    "kernelspec": {
      "name": "python3",
      "display_name": "Python 3"
    },
    "language_info": {
      "name": "python"
    }
  },
  "cells": [
    {
      "cell_type": "markdown",
      "metadata": {
        "id": "view-in-github",
        "colab_type": "text"
      },
      "source": [
        "<a href=\"https://colab.research.google.com/github/Himanshu-Tagde/Assignment/blob/main/gray_point.ipynb\" target=\"_parent\"><img src=\"https://colab.research.google.com/assets/colab-badge.svg\" alt=\"Open In Colab\"/></a>"
      ]
    },
    {
      "cell_type": "code",
      "source": [
        "import requests\n",
        "from bs4 import BeautifulSoup\n",
        "import re\n",
        "import pandas as pd\n",
        "\n",
        "# URL to scrape\n",
        "url = 'https://www.gray-point.com/properties/'\n",
        "\n",
        "headers = {\n",
        "    \"User-Agent\": \"Mozilla/5.0 (Windows NT 10.0; Win64; x64) AppleWebKit/537.36 (KHTML, like Gecko) Chrome/91.0.4472.124 Safari/537.36\"\n",
        "}\n",
        "\n",
        "# Fetch and parse the page\n",
        "response = requests.get(url, headers=headers)\n",
        "soup = BeautifulSoup(response.content, 'html.parser')\n",
        "\n",
        "# Extract property details\n",
        "properties = []\n",
        "for listing in soup.find_all('div', class_='PropertyContent'):\n",
        "    name = listing.find('h1').get_text(strip=True) if listing.find('h1') else \"N/A\"\n",
        "    paragraphs = [p.get_text(strip=True) for p in listing.find_all('p')]\n",
        "    address_info = \" | \".join(paragraphs) if paragraphs else \"N/A\"\n",
        "    split_info = address_info.split(\" | \")\n",
        "\n",
        "    # Extract Price\n",
        "    price = \"N/A\"\n",
        "    if len(split_info) > 2:\n",
        "        price = split_info[2]\n",
        "    else:\n",
        "\n",
        "        price_match = re.search(r'£[\\d,]+(?:\\.\\d+)?', address_info)\n",
        "        if price_match:\n",
        "            price = price_match.group()\n",
        "\n",
        "\n",
        "    features = []\n",
        "    feature_list = listing.find_all('ul')\n",
        "    for feature in feature_list:\n",
        "        features.extend([li.get_text(strip=True) for li in feature.find_all('li')])\n",
        "    feature_text = \", \".join(features) if features else \"N/A\"\n",
        "\n",
        "    properties.append({\n",
        "        'Name': name,\n",
        "        'Address': split_info[0] if len(split_info) > 0 else \"N/A\",\n",
        "        'Features': feature_text,\n",
        "        'Other Info': \"\\n\".join(split_info[1:]) if len(split_info) > 1 else \"N/A\",\n",
        "        'Price': price\n",
        "    })\n",
        "\n",
        "df = pd.DataFrame(properties)\n",
        "df.to_excel('properties.xlsx', index=False, engine='openpyxl')\n",
        "\n",
        "print(\"Data saved to properties.xlsx\")\n",
        "\n",
        "# Print extracted data in a structured format\n",
        "if properties:\n",
        "    for prop in properties:\n",
        "        print(f\"Property Name: {prop['Name']}\")\n",
        "        print(f\"Property Address: {prop['Address']}\")\n",
        "        print(f\"Features: {prop['Features']}\")\n",
        "        print(\"Other Information:\")\n",
        "        print(prop['Other Info'])\n",
        "        print(f\"Price: {prop['Price']}\")\n",
        "        print(\"-\" * 50)\n",
        "else:\n",
        "    print(\"No properties found. Check the HTML structure.\")\n"
      ],
      "metadata": {
        "colab": {
          "base_uri": "https://localhost:8080/"
        },
        "id": "W61HvDkgwG6C",
        "outputId": "6925135e-fbd7-4acf-fdc9-9fc908018f58"
      },
      "execution_count": null,
      "outputs": [
        {
          "output_type": "stream",
          "name": "stdout",
          "text": [
            "Data saved to properties.xlsx\n",
            "Property Name: Sovereign Gate, 18-20 Kew Road, Richmond TW9 2NA\n",
            "Property Address: OFFICE TO LET RICHMOND / SERVICED OFFICE DESKS\n",
            "Features: Members lounge & breakout space, Meeting rooms, Creative pods and phone booths, Showers and bike racks, Unlimited barista-quality coffee, Spin wellness room, Designed with wellbeing and productivity in mind, View video tour here\n",
            "Other Information:\n",
            "Office Serviced Desks to let Richmond\n",
            "Desk rates from £485 – £500 per desk\n",
            "Net Internal Area: 700 sq ft – 39,135 sq ft approx.\n",
            "Download property information flyer\n",
            "Price: Desk rates from £485 – £500 per desk\n",
            "--------------------------------------------------\n",
            "Property Name: 179 High Street, Hampton Hill TW12 1NL\n",
            "Property Address: NOW LET TO ESTABLISHED SUPERMARKET CHAIN\n",
            "Features: Brand new development, Ground floor open plan space, Capable of subdivision, use Class E, Prominent Hampton Hill position\n",
            "Other Information:\n",
            "Hampton Hill, London\n",
            "Gross Internal Area: 4,209 sq. ft. (391 sq. m) approx.\n",
            "Download property information flyer\n",
            "Price: Gross Internal Area: 4,209 sq. ft. (391 sq. m) approx.\n",
            "--------------------------------------------------\n",
            "Property Name: 28 York Street, Twickenham TW1 3LJ\n",
            "Property Address: ﻿\n",
            "Features: exciting freehold opportunity, 4-storey mid-terrace property, prominent retail premises, 3 newly modernised flats above, town centre location, refurbished interior\n",
            "Other Information:\n",
            "FREEHOLD (3 new flats & 1 shop)\n",
            "Unconditional Offers of £1,390,000\n",
            "Freehold for Sale Twickenham\n",
            "Shop for Sale Twickenham\n",
            "Commercial Property for Sale Twickenham\n",
            "Residential for Sale Twickenham\n",
            "Commercial space: 969 Sq Ft / Residential space: 1,765 Sq. Ft\n",
            "Download property information flyer\n",
            "Price: Unconditional Offers of £1,390,000\n",
            "--------------------------------------------------\n"
          ]
        }
      ]
    }
  ]
}